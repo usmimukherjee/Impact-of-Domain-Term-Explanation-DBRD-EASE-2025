{
 "cells": [
  {
   "cell_type": "code",
   "execution_count": null,
   "metadata": {},
   "outputs": [],
   "source": [
    "import pandas as pd"
   ]
  },
  {
   "cell_type": "markdown",
   "metadata": {},
   "source": [
    "## Formatting DF for the generated explanations"
   ]
  },
  {
   "cell_type": "code",
   "execution_count": null,
   "metadata": {},
   "outputs": [],
   "source": [
    "df1 = pd.read_csv('')\n",
    "df1"
   ]
  },
  {
   "cell_type": "code",
   "execution_count": null,
   "metadata": {},
   "outputs": [],
   "source": [
    "df2 = pd.read_csv(\"\")\n",
    "# df2.drop(columns=['Unnamed: 0'], inplace=True)\n",
    "df2"
   ]
  },
  {
   "cell_type": "code",
   "execution_count": null,
   "metadata": {},
   "outputs": [],
   "source": [
    "# concatenate the two dataframes column wise\n",
    "df3 = pd.concat([df1, df2], axis=1)\n",
    "df3"
   ]
  },
  {
   "cell_type": "code",
   "execution_count": null,
   "metadata": {},
   "outputs": [],
   "source": [
    "# saving df3 in GeneratedExplanaitions folder without index\n",
    "df3.to_csv('', index=False)"
   ]
  },
  {
   "cell_type": "markdown",
   "metadata": {},
   "source": [
    "## Adding to the bug report"
   ]
  },
  {
   "cell_type": "code",
   "execution_count": null,
   "metadata": {},
   "outputs": [],
   "source": [
    "import os\n",
    "\n",
    "files = os.listdir('')\n",
    "\n",
    "for file in files:\n",
    "    if file.endswith('.csv'):\n",
    "        df = pd.read_csv('' + file)\n",
    "        print(df)\n",
    "        print('\\n')"
   ]
  },
  {
   "cell_type": "code",
   "execution_count": null,
   "metadata": {},
   "outputs": [],
   "source": [
    "# bug reports\n",
    "\n",
    "bugreport = os.listdir('')\n",
    "\n",
    "for f in bugreport:\n",
    "    if f.endswith('.csv'):\n",
    "        df = pd.read_csv('' + f)\n",
    "        print(df)\n",
    "        print('\\n')\n"
   ]
  },
  {
   "cell_type": "code",
   "execution_count": null,
   "metadata": {},
   "outputs": [],
   "source": [
    "import re\n",
    "\n",
    "# Function to replace the first occurrence of each word with explanations\n",
    "def replace_words_with_explanations(text, word_explanations_df):\n",
    "    # Ensure the input text is a string\n",
    "    if not isinstance(text, str):\n",
    "        return text\n",
    "\n",
    "    for index, row in word_explanations_df.iterrows():\n",
    "        word = row['terms']\n",
    "        explanation = row['Generated Text']\n",
    "\n",
    "        # Skip rows where either word or explanation is NaN or not a string\n",
    "        if pd.isna(word) or pd.isna(explanation) or not isinstance(word, str) or not isinstance(explanation, str):\n",
    "            continue\n",
    "        \n",
    "        # Create a regex pattern to find the first occurrence of the word\n",
    "        pattern = re.compile(re.escape(word), re.IGNORECASE)\n",
    "        \n",
    "        # Define a replacement function that appends explanation to the first occurrence\n",
    "        def replacement(match):\n",
    "            return f'{match.group(0)}({explanation})'\n",
    "        \n",
    "        # Use re.sub with a replacement function and count=1 to replace only the first occurrence\n",
    "        text = pattern.sub(replacement, text, count=1)\n",
    "    \n",
    "    return text"
   ]
  },
  {
   "cell_type": "code",
   "execution_count": null,
   "metadata": {},
   "outputs": [],
   "source": [
    "explanation_dir =''\n",
    "bugreport_dir = ''\n",
    "output_dir = ''\n",
    "\n",
    "# Ensure output directory exists\n",
    "os.makedirs(output_dir, exist_ok=True)\n",
    "\n",
    "# Process each file in the explanation directory\n",
    "explanation_files = os.listdir(explanation_dir)\n",
    "\n",
    "for bugreport_file in os.listdir(bugreport_dir):\n",
    "    if bugreport_file.endswith('.csv'):\n",
    "        dataset_name = bugreport_file.split('_')[0]  # Extract dataset name (e.g., 'eclipse')\n",
    "    \n",
    "        if dataset_name == 'Eclipse' or dataset_name == 'Mozilla':\n",
    "            continue\n",
    "        print(f'Processing {bugreport_file}...')\n",
    "        explanation_file = f'{dataset_name}_sim.csv'\n",
    "        \n",
    "        # Check if the corresponding explanation file exists\n",
    "        if explanation_file in explanation_files:\n",
    "            # Load data\n",
    "            explanation_df = pd.read_csv(os.path.join(explanation_dir, explanation_file))\n",
    "            bugreport_df = pd.read_csv(os.path.join(bugreport_dir, bugreport_file))\n",
    "            \n",
    "            # Replace terms with explanations in each bug report\n",
    "            for i, row in bugreport_df.iterrows():\n",
    "                \n",
    "                bug_report_text = row['description1']  # Adjust this column name as needed\n",
    "                updated_text = replace_words_with_explanations(bug_report_text, explanation_df)\n",
    "                bugreport_df.at[i, 'description1'] = updated_text  # Save the updated text\n",
    "                \n",
    "                bug_report_text = row['description2']  # Adjust this column name as needed\n",
    "                updated_text = replace_words_with_explanations(bug_report_text, explanation_df)\n",
    "                bugreport_df.at[i, 'description2'] = updated_text  # Save the updated text\n",
    "                \n",
    "            \n",
    "            # Save the updated bug report dataframe\n",
    "            bugreport_df.to_csv(os.path.join(bugreport_dir, f'updated_{bugreport_file}'), index=False)\n",
    "            print(f'Updated {bugreport_file} with explanations from {explanation_file}')"
   ]
  }
 ],
 "metadata": {
  "kernelspec": {
   "display_name": "Python 3",
   "language": "python",
   "name": "python3"
  },
  "language_info": {
   "codemirror_mode": {
    "name": "ipython",
    "version": 3
   },
   "file_extension": ".py",
   "mimetype": "text/x-python",
   "name": "python",
   "nbconvert_exporter": "python",
   "pygments_lexer": "ipython3",
   "version": "3.11.2"
  },
  "orig_nbformat": 4
 },
 "nbformat": 4,
 "nbformat_minor": 2
}
