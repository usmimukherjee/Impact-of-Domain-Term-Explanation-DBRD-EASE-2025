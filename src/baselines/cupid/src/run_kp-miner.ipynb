{
 "cells": [
  {
   "cell_type": "markdown",
   "metadata": {},
   "source": [
    "### KP-Miner"
   ]
  },
  {
   "cell_type": "code",
   "execution_count": 1,
   "metadata": {},
   "outputs": [],
   "source": [
    "import pke\n",
    "def kpminer_extract(text):\n",
    "    extractor = pke.unsupervised.KPMiner()\n",
    "    df_counts = pke.load_document_frequency_file(input_file='../data/spark_df.tsv.gz')\n",
    "    extractor.load_document(input=text, language='en')\n",
    "    extractor.candidate_selection(lasf=1)\n",
    "    extractor.candidate_weighting(df=df_counts)\n",
    "    keyphrases = extractor.get_n_best()\n",
    "    returned_keyphrases = []\n",
    "    for keyphrase in keyphrases:\n",
    "        keyphrase = keyphrase[0]\n",
    "        returned_keyphrases.append(keyphrase)\n",
    "    return ' '.join(returned_keyphrases)"
   ]
  },
  {
   "cell_type": "code",
   "execution_count": 2,
   "metadata": {},
   "outputs": [
    {
     "name": "stderr",
     "output_type": "stream",
     "text": [
      "100%|██████████| 2841/2841 [25:07<00:00,  1.88it/s]\n"
     ]
    }
   ],
   "source": [
    "project = 'spark'\n",
    "method = 'kpminer'\n",
    "import pandas as pd\n",
    "import os\n",
    "from tqdm import tqdm\n",
    "\n",
    "df = pd.read_csv('../data/raw/test_{}.csv'.format(project))\n",
    "kpminer_folder = '../data/keywords/{}/kpminer-idf/run_1/'\n",
    "flag_content_df = pd.read_csv(f'../data/ablation/test_{project}_flag_content.csv')\n",
    "\n",
    "if not os.path.exists(kpminer_folder.format(project)):\n",
    "    os.makedirs(kpminer_folder.format(project))\n",
    "\n",
    "for index, row in tqdm(df.iterrows(), total=df.shape[0]):\n",
    "    bug_id = row['bug_id']\n",
    "    \n",
    "    if flag_content_df[flag_content_df['bug_id'] == bug_id]['run_flag'].values[0] == 0:\n",
    "        continue\n",
    "    \n",
    "    if os.path.exists(os.path.join(kpminer_folder, f'{bug_id}.txt')):\n",
    "        continue\n",
    "    \n",
    "    short_desc = row['short_desc']\n",
    "    description = row['description']\n",
    "    short_desc_keywords = kpminer_extract(short_desc)\n",
    "    description_keywords = kpminer_extract(description)\n",
    "    \n",
    "    with open(kpminer_folder.format(project) + '/{}.txt'.format(bug_id), 'w') as f:\n",
    "        f.write('Summary: {}'.format(short_desc_keywords))\n",
    "        f.write('\\n')\n",
    "        f.write('Description: {}'.format(description_keywords))\n",
    "        f.write('\\n')  "
   ]
  }
 ],
 "metadata": {
  "kernelspec": {
   "display_name": "cupid",
   "language": "python",
   "name": "python3"
  },
  "language_info": {
   "codemirror_mode": {
    "name": "ipython",
    "version": 3
   },
   "file_extension": ".py",
   "mimetype": "text/x-python",
   "name": "python",
   "nbconvert_exporter": "python",
   "pygments_lexer": "ipython3",
   "version": "3.10.12"
  }
 },
 "nbformat": 4,
 "nbformat_minor": 2
}
