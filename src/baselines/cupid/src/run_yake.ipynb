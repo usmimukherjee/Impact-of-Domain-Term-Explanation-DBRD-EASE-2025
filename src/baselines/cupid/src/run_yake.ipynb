{
 "cells": [
  {
   "cell_type": "markdown",
   "metadata": {},
   "source": [
    "### Yake"
   ]
  },
  {
   "cell_type": "code",
   "execution_count": 3,
   "metadata": {},
   "outputs": [],
   "source": [
    "import pke\n",
    "\n",
    "def yake_extract(text):\n",
    "    extractor = pke.unsupervised.YAKE()\n",
    "    extractor.load_document(input=text, language='en')\n",
    "    extractor.candidate_selection()\n",
    "    extractor.candidate_weighting()\n",
    "    keyphrases = extractor.get_n_best()\n",
    "    returned_keyphrases = []\n",
    "    for keyphrase in keyphrases:\n",
    "        keyphrase = keyphrase[0]\n",
    "        returned_keyphrases.append(keyphrase)\n",
    "    return ' '.join(returned_keyphrases)"
   ]
  },
  {
   "cell_type": "code",
   "execution_count": null,
   "metadata": {},
   "outputs": [],
   "source": [
    "import pandas as pd\n",
    "import os\n",
    "from tqdm import tqdm\n",
    "\n",
    "project = 'spark'\n",
    "method = 'yake'\n",
    "\n",
    "df = pd.read_csv('../data/raw/test_{}.csv'.format(project))\n",
    "yake_folder = '../data/keywords/{}/yake-idf/run_1/'\n",
    "flag_content_df = pd.read_csv(f'../data/ablation/test_{project}_flag_content.csv')\n",
    "\n",
    "if not os.path.exists(yake_folder.format(project)):\n",
    "    os.makedirs(yake_folder.format(project))\n",
    "\n",
    "for index, row in tqdm(df.iterrows(), total=df.shape[0]):\n",
    "    bug_id = row['bug_id']\n",
    "    if flag_content_df[flag_content_df['bug_id'] == bug_id]['run_flag'].values[0] == 0:\n",
    "        continue\n",
    "    if os.path.exists(os.path.join(yake_folder, f'{bug_id}.txt')):\n",
    "        continue\n",
    "    short_desc = row['short_desc']\n",
    "    description = row['description']\n",
    "    short_desc_keywords = yake_extract(short_desc)\n",
    "    description_keywords = yake_extract(description)\n",
    "    \n",
    "    with open(yake_folder.format(project) + '/{}.txt'.format(bug_id), 'w') as f:\n",
    "        f.write('Summary: {}'.format(short_desc_keywords))\n",
    "        f.write('\\n')\n",
    "        f.write('Description: {}'.format(description_keywords))\n",
    "        f.write('\\n')  "
   ]
  }
 ],
 "metadata": {
  "kernelspec": {
   "display_name": "cupid",
   "language": "python",
   "name": "python3"
  },
  "language_info": {
   "codemirror_mode": {
    "name": "ipython",
    "version": 3
   },
   "file_extension": ".py",
   "mimetype": "text/x-python",
   "name": "python",
   "nbconvert_exporter": "python",
   "pygments_lexer": "ipython3",
   "version": "3.10.12"
  }
 },
 "nbformat": 4,
 "nbformat_minor": 2
}
